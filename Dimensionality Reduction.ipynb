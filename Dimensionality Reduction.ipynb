{
 "cells": [
  {
   "cell_type": "markdown",
   "metadata": {},
   "source": [
    "# **Dimensionality Reduction**\n",
    "- **Dimensionality reduction is a technique used in machine learning and data analysis to reduce the number of input variables or features in a dataset while preserving as much relevant information as possible.** \n",
    "\n",
    "- **This reduction can be beneficial for several reasons:**\n",
    "    - **Computation efficiency:** \n",
    "        - High-dimensional data can be computationally expensive to process and analyze. \n",
    "        - Dimensionality reduction can simplify the dataset, making it more manageable and reducing the computational resources required.\n",
    "    \n",
    "    - **Overfitting prevention:** \n",
    "        - High-dimensional datasets are prone to overfitting, where a model learns noise in the data rather than the underlying patterns. \n",
    "        - By reducing the dimensionality, we can reduce the risk of overfitting and improve the generalization ability of the model.\n",
    "\n",
    "    - **Visualization:** \n",
    "        - It's difficult to visualize data in high-dimensional spaces. \n",
    "        - Dimensionality reduction techniques can transform the data into a lower-dimensional space, typically 2D or 3D, making it easier to visualize and interpret.\n",
    "\n",
    "    - **Noise reduction:** Removing irrelevant features can help in reducing the noise in the dataset, improving the performance of the model.**\n",
    "\n",
    "\n",
    "- **There are two main approaches to dimensionality reduction:**\n",
    "    - **Feature Selection:** \n",
    "        - This approach involves selecting a subset of the original features from the dataset. \n",
    "        - It focuses on identifying the most relevant features and discarding the rest. Common techniques for feature selection include **filtering methods**, **wrapper methods**, and **embedded methods**.\n",
    "\n",
    "    - **Feature Extraction:** \n",
    "        - This approach involves transforming the original features into a lower-dimensional space. \n",
    "        - The transformed features, called components or embeddings, are combinations of the original features that capture most of the variance in the data. \n",
    "        - **Principal Component Analysis (PCA)** and **t-distributed Stochastic Neighbor Embedding (t-SNE)** are popular techniques for feature extraction."
   ]
  },
  {
   "cell_type": "markdown",
   "metadata": {},
   "source": [
    "### **Feature Selection**\n",
    "- Imagine you're trying to bake a cake, but you have a bunch of ingredients on your kitchen counter. Some ingredients are essential, like flour, eggs, and sugar, while others, like sprinkles or food coloring, are nice to have but not necessary for the cake's taste or texture.\n",
    "\n",
    "- Feature selection in machine learning is like choosing the essential ingredients for baking a cake. You want to pick the features (ingredients) that are most important for making accurate predictions, while ignoring or leaving out the less important ones.\n",
    "\n",
    "- So, instead of using every ingredient on your counter, you carefully select only the most crucial ones for your cake recipe. This simplifies the process, reduces clutter, and ensures that you're focusing on what really matters.\n",
    "\n",
    "- Similarly, in feature selection, you choose the most relevant features from your dataset, discarding the less important ones. This helps simplify your model, making it more efficient, easier to interpret, and less prone to overfitting (learning from noise rather than meaningful patterns).\n",
    "\n",
    "##### **Filtering Methods**\n",
    "- Filter methods assess the relevance of features based on their intrinsic characteristics, such as statistical measures like correlation or mutual information with the target variable. \n",
    "- These methods don't involve training the model; instead, they analyze the dataset before any modeling takes place. \n",
    "- **Examples**\n",
    "    1. Imagine you're shopping for a new phone, and you're overwhelmed by the numerous options available. To make a decision, you start by filtering out phones based on specific criteria that are important to you, such as price, camera quality, battery life, and brand reputation. \n",
    "        - This filtering process helps you narrow down your choices to a more manageable set of options that meet your requirements.\n",
    "        - Similarly, in the context of data analysis and machine learning, the filter method helps us narrow down the features (attributes) of a dataset based on certain criteria, without necessarily involving complex modeling or training. \n",
    "        - We evaluate each feature independently and filter out the ones that are less relevant or redundant, leaving us with a subset of features that are likely to be more informative for our analysis or predictive model.\n",
    "\n",
    "    2. Imagine you're a marketing analyst working for an e-commerce company, and you want to segment customers based on their purchasing behavior.\n",
    "        - You have a dataset with various customer attributes such as age, gender, location, browsing history, and purchase frequency.\n",
    "        - Using the filter method, you can assess the relevance of each attribute to customer segmentation. For example, you might calculate the mutual information between each attribute and customer segmentation clusters.\n",
    "        - Based on this analysis, you might filter out attributes that have low mutual information with customer segmentation, such as the customer's favorite color or zodiac sign, and focus on attributes like purchase frequency and browsing history, which provide more useful information for segmenting customers.\n",
    "\n",
    "**How to apply filter method?**\n",
    "- Applying the filter method for feature selection involves several steps. Here's a simplified guide on how to apply the filter method:\n",
    "\n",
    "    - **Understand Your Data:** \n",
    "        - Before applying any feature selection technique, it's essential to have a good understanding of your dataset and the problem you're trying to solve. \n",
    "        - Identify the features (attributes) in your dataset and the target variable you want to predict or analyze.\n",
    "\n",
    "    - **Choose a Relevance Metric:** Select a metric to measure the **relevance** of each feature to the **target variable** or outcome. \n",
    "        - Common relevance metrics include **correlation coefficient**, **chi-square test**, and **ANOVA F-value**. \n",
    "        - The choice of metric depends on the nature of your data (continuous or categorical) and the problem you're addressing.\n",
    "            - **Pearson’s correlation** measures the correlation between 2 continuous variables.\n",
    "            - **CHI-square** measures the correlation between 2 categorical variables.\n",
    "            - **Kendall’s** and **ANOVA** measure the correlation between continuous and categorical variables.\n",
    "\n",
    "    - **Calculate Feature Relevance:** \n",
    "        - Compute the relevance of each feature using the chosen metric. This involves analyzing the statistical relationship between each feature and the target variable. \n",
    "\n",
    "    - **Rank Features:** \n",
    "        - Once you've calculated the relevance of each feature, rank them in descending order based on their relevance scores. \n",
    "        - Features with **higher relevance scores** are considered **more important** or informative for your analysis or predictive model.\n",
    "\n",
    "    - **Set a Threshold:** \n",
    "        - Determine a threshold for feature relevance scores. \n",
    "        - Features with relevance scores above this threshold are retained, while those below the threshold are discarded. - The threshold can be chosen based on **domain knowledge**, **experimentation**, or **specific requirements** of your analysis or model.\n",
    "\n",
    "    - **Select Features:** \n",
    "        - Finally, select the top-ranked features that meet or exceed the chosen threshold. \n",
    "        - These selected features form the subset of features that will be used for further analysis, modeling, or prediction."
   ]
  },
  {
   "cell_type": "markdown",
   "metadata": {},
   "source": [
    "#### **Pearson’s Correlation**"
   ]
  },
  {
   "cell_type": "markdown",
   "metadata": {},
   "source": [
    "- **Pearson's correlation coefficient, often denoted as $r$, is a statistical measure that quantifies the strength and direction of the linear relationship between two continuous variables. It ranges from -1 to +1, where:**\n",
    "- **$r=1:$ indicates a perfect positive linear relationship, meaning that as one variable increases, the other variable also increases proportionally.**\n",
    "- **$r=−1:$ indicates a perfect negative linear relationship, meaning that as one variable increases, the other variable decreases proportionally.**\n",
    "- **$r=0:$ indicates no linear relationship between the variables.**\n",
    "\n",
    "![alt text](1_nEV79MkDmX2x8AoAxPeXsw.png)"
   ]
  },
  {
   "cell_type": "markdown",
   "metadata": {},
   "source": [
    "#### **CHI-squared**\n",
    "- **The Chi-squared $(χ^2)$ test is a statistical method used to determine whether there is a significant association between two categorical variables.**\n",
    "- **It helps us understand if the observed distribution of categorical variables differs significantly from the expected distribution, assuming that there is no association between them.**\n",
    "\n",
    "**Here's how the Chi-squared test works:**\n",
    "- **Formulate Hypotheses:** \n",
    "    - The null hypothesis $(H_0)$ states that there is no association between the two categorical variables, while the alternative hypothesis $(H_1)$ suggests that there is an association between them.\n",
    "    \n",
    "- **Calculate Expected Frequencies:** \n",
    "    - Calculate the expected frequencies for each combination of categories based on the assumption of independence between the variables. \n",
    "    - This is typically done by multiplying the row total and column total and dividing by the total sample size.\n",
    "\n",
    "- **Compute Chi-squared Statistic:** \n",
    "    - Calculate the Chi-squared statistic using the formula: $$χ^2 =∑ \\frac{(Oᵢ - Eᵢ)^2}{Eᵢ}$$ Where:\n",
    "        - $Oᵢ$ is the observed frequency for each combination of categories.\n",
    "        - $Eᵢ$ is the expected frequency for each combination of categories.\n",
    " \n",
    "- **Determine Degrees of Freedom:** Calculate the degrees of freedom $(df)$ based on the number of rows $(r)$ and columns $(c)$ in the contingency table: $$df=(r−1)×(c−1)$$.\n",
    "\n",
    "- **Find the Critical Value and Compare:** Using a chi-square distribution table, find the critical value for the desired significance level (commonly 0.05) and the calculated degrees of freedom.\n",
    "\n",
    "- **Make a Decision:** \n",
    "    - Compare the computed chi-square statistic to the critical value. If the chi-square statistic is greater than the critical value, reject the null hypothesis.\n",
    "\n",
    "- **Example**:\n",
    "- Let's say you're investigating whether there is a relationship between **gender** and **preferred smartphone brand** among a group of 100 people. You collect data on the gender (**male** or **female**) and the preferred smartphone brand (**Brand A, Brand B, or Brand C**) for each person.\n",
    "\n",
    "    |\t|Brand A|Brand B|Brand C|\n",
    "    |---|-------|-------|-------|\n",
    "    |Male|20 |30|10|\n",
    "    |Female|15|20|5|\n",
    "\n",
    "    **You want to determine if there's a significant association between gender and preferred smartphone brand.**\n",
    "\n",
    "    - **Formulate Hypotheses:**\n",
    "        - $H_0$: There is no association between gender and preferred smartphone brand.\n",
    "        - $H_1$: There is an association between gender and preferred smartphone brand.\n",
    "\n",
    "    - **Calculate Expected Frequencies:**\n",
    "        - Calculate the expected frequencies assuming independence between gender and preferred smartphone brand.\n",
    "            - The total number of males is $20+30+10=60$ \n",
    "            - The total number of females is $15+20+5=40$\n",
    "            - The total number of people who prefer Brand A is $20+15=35$\n",
    "            - The total number of people who prefer Brand B is $30+20=50$ \n",
    "            - The total number of people who prefer Brand C is $10+5=15$\n",
    "\n",
    "        - Using these totals, we can calculate the expected frequencies for each cell in the table under the assumption of independence. \n",
    "            - The expected frequency for males who prefer Brand A would be $\\frac{60×35}{100}=21$.\n",
    "            - The expected frequency for females who prefer Brand A would be $\\frac{40×35}{100}=14$.\n",
    "            - The expected frequency for males who prefer Brand B would be $\\frac{60×50}{100}=30$.\n",
    "            - The expected frequency for females who prefer Brand A would be $\\frac{40×50}{100}=20$.\n",
    "            - The expected frequency for males who prefer Brand C would be $\\frac{60×15}{100}=9$.\n",
    "            - The expected frequency for females who prefer Brand C would be $\\frac{40×15}{100}=6$.\n",
    "    - **Compute Chi-squared Statistic:**\n",
    "        - We'll use the observed and expected frequencies to compute the Chi-squared statistic using the formula: $$χ^2 =∑ \\frac{(Oᵢ - Eᵢ)^2}{Eᵢ}$$\n",
    "        $$X^2 = \\frac{(20-21)^2}{21}+\\frac{(15-14)^2}{14}+\\frac{(30-30)^2}{30}+\\frac{(20-20)^2}{20}+\\frac{(30-9)^2}{9}+\\frac{(5-6)^2}{6}$$\n",
    "        $$X^2=0.2301$$\n",
    "\n",
    "    - **Determine Degrees of Freedom:**\n",
    "        - We have $2$ rows and $3$ columns in our table, so the degrees of freedom $(df)$ will be $$(df) = (2−1)×(3−1)=2$$.\n",
    "    \n",
    "    - **Find the Critical Value and Compare:** Using a chi-square distribution table, find the critical value for the desired significance level (commonly 0.05) and the calculated degrees of freedom.\n",
    "\n",
    "\n",
    "        ![alt text](chi_square_table_small.jpg)\n",
    "\n",
    "        - The critical value for a significance level of $0.05$ and $1$ degrees of freedom is $3.841$.\n",
    "        - Since $0.2301 < 3.84$, we fail to reject the null hypothesis, suggesting no significant association between gender and product preference.\n",
    "\n",
    "        \n",
    "        **In simpler terms, this means that there is insufficient evidence to conclude that there is a significant association between gender and preferred smartphone brand among the group of individuals we surveyed.**"
   ]
  },
  {
   "cell_type": "markdown",
   "metadata": {},
   "source": [
    "#### **WRAPPER Method**\n",
    "- Wrapper methods in feature selection involve selecting subsets of features by evaluating the performance of a specific machine learning model trained on different combinations of features.\n",
    "- Unlike filter methods, which rely on intrinsic characteristics of the data, wrapper methods use the predictive performance of the model as feedback to guide the selection process.\n",
    "\n",
    "**Wrapper Method Process:**\n",
    "- **Generate Feature Subsets:** \n",
    "    - Wrapper methods systematically generate different subsets of features from the original feature set. \n",
    "    - They can start with an empty set and progressively add features (**forward selection**), start with the full set and progressively remove features (backward elimination), or explore different combinations of features (**exhaustive search**).\n",
    "\n",
    "- **Train Model and Evaluate Performance:** \n",
    "    - For each subset of features, a machine learning model is trained using only those features. \n",
    "    - The model's performance is then evaluated using a performance metric, such as accuracy, precision, recall, F1-score, or cross-validation score.\n",
    "\n",
    "- **Select Best Subset:** \n",
    "    - The subset of features that yields the best performance metric on a validation set is selected as the optimal subset. \n",
    "    - This subset is chosen based on maximizing model performance or minimizing error.\n",
    "\n",
    "- **Validate Selected Subset:** \n",
    "    - Once the optimal subset is chosen, it is validated on an independent test set to ensure that the selected features generalize well to unseen data.\n",
    "\n",
    "- **Example**:\n",
    "    **Let's consider a classification problem where we want to predict whether a customer will purchase a product based on various features such as age, income, and spending habits.** \n",
    "    \n",
    "    - **Data Collection:** We collect data on 1000 customers, including features like age, income, and spending habits, as well as a binary target variable indicating whether they made a purchase (1 for purchase, 0 for no purchase).\n",
    "\n",
    "    - **Initial Feature Set:** Our initial feature set includes age, income, and spending habits.\n",
    "    \n",
    "    - **Wrapper Method:** We decide to use a forward selection wrapper method to select the best subset of features for predicting purchases.\n",
    "\n",
    "    - **Model Training and Evaluation:**\n",
    "        - We start with an empty set of features.\n",
    "        - For each iteration, we add one feature to the current set of features and train a logistic regression model.\n",
    "        - We evaluate the model's performance using cross-validation and record the accuracy or another chosen metric.\n",
    "        - We repeat this process, progressively adding one feature at a time, until we've tried all possible combinations of features.\n",
    "\n",
    "    - **Select Best Subset:**\n",
    "        - After evaluating all feature subsets, we select the subset that yields the highest cross-validated accuracy.\n",
    "        - Suppose the best subset includes age and spending habits but not income.\n",
    "\n",
    "    - **Validate Selected Subset:**\n",
    "    - We validate the selected subset on an independent test set to ensure that the model's performance generalizes well to unseen data."
   ]
  },
  {
   "cell_type": "code",
   "execution_count": 1,
   "metadata": {},
   "outputs": [
    {
     "name": "stdout",
     "output_type": "stream",
     "text": [
      "Best subset of features: [0, 2, 3]\n",
      "Cross-validated accuracy: 0.8775000000000001\n",
      "Test set accuracy: 0.835\n"
     ]
    }
   ],
   "source": [
    "import numpy as np\n",
    "from sklearn.model_selection import cross_val_score, train_test_split\n",
    "from sklearn.linear_model import LogisticRegression\n",
    "from sklearn.datasets import make_classification\n",
    "\n",
    "# Generate synthetic data\n",
    "X, y = make_classification(n_samples=1000, n_features=10, n_classes=2, random_state=42)\n",
    "\n",
    "# Split data into train and test sets\n",
    "X_train, X_test, y_train, y_test = train_test_split(X, y, test_size=0.2, random_state=42)\n",
    "\n",
    "# Define logistic regression model\n",
    "lr_model = LogisticRegression()\n",
    "\n",
    "# Forward selection wrapper method\n",
    "best_subset = []\n",
    "best_score = -1\n",
    "\n",
    "for feature_idx in range(X_train.shape[1]):\n",
    "    selected_features = best_subset + [feature_idx]\n",
    "    X_train_subset = X_train[:, selected_features]\n",
    "    \n",
    "    # Train logistic regression model with selected features\n",
    "    scores = cross_val_score(lr_model, X_train_subset, y_train, cv=5)\n",
    "    avg_score = np.mean(scores)\n",
    "    \n",
    "    # Update best subset if current subset performs better\n",
    "    if avg_score > best_score:\n",
    "        best_score = avg_score\n",
    "        best_subset = selected_features\n",
    "\n",
    "print(\"Best subset of features:\", best_subset)\n",
    "print(\"Cross-validated accuracy:\", best_score)\n",
    "\n",
    "# Train final model using best subset of features\n",
    "lr_model.fit(X_train[:, best_subset], y_train)\n",
    "\n",
    "# Evaluate final model on test set\n",
    "test_score = lr_model.score(X_test[:, best_subset], y_test)\n",
    "print(\"Test set accuracy:\", test_score)\n"
   ]
  },
  {
   "cell_type": "markdown",
   "metadata": {},
   "source": [
    "**Wrapper methods are computationally expensive compared to filter methods because they involve training and evaluating multiple models for each subset of features. However, they can potentially yield better feature subsets tailored to the specific predictive task and model architecture.**"
   ]
  },
  {
   "cell_type": "markdown",
   "metadata": {},
   "source": [
    "#### **Embedded Methods**\n",
    "\n",
    "**Embedded methods for feature selection involve performing feature selection as part of the model training process.**\n",
    "\n",
    "**In other words, the feature selection process is embedded within the model training algorithm itself.** \n",
    "\n",
    "**Embedded methods automatically select the most relevant features during model training, based on how well the features contribute to the model's performance.**\n",
    "\n",
    "**Several machine learning algorithms incorporate embedded feature selection methods as part of their model training process.**\n",
    "- **Lasso Regression (L1 Regularization)**\n",
    "- **Ridge Regression (L2 Regularization)**\n",
    "- **Decision Trees and Ensemble Methods**\n",
    "    - **Random Forests and Gradient Boosting Machines (GBMs)**\n",
    "    - **XGBoost and LightGBM**"
   ]
  },
  {
   "cell_type": "markdown",
   "metadata": {},
   "source": [
    "---------------------------"
   ]
  },
  {
   "cell_type": "markdown",
   "metadata": {},
   "source": [
    "### **FEATURE EXTRACTION**\n",
    "- **Feature extraction is a process in machine learning and data analysis where new features are created from the existing set of features to capture more useful information or reduce the dimensionality of the data.** \n",
    "\n",
    "- **It involves transforming raw input data into a new feature space that better represents the underlying patterns or relationships in the data.**\n",
    "\n",
    "- **Feature extraction is a type of dimensionality reduction where transformations takes place as the input variables are combined together in ways to produce new variables that can retain most of the information in the original input variables.**\n",
    "\n",
    "- **This can be categorized to:**\n",
    "    - **Linear Methods (Factors-based)**\n",
    "        - **These methods aim to find a lower-dimensional representation of the data by identifying linear relationships among the features.**\n",
    "        - **Ex. Principal Component Analysis (PCA)**\n",
    "    - **Non-Linear Methods (Projection-based or Manifold Learning)**\n",
    "        - **techniques that aim to capture complex, non-linear relationships in the data.** \n",
    "        - **Unlike linear methods, which assume that the underlying structure of the data can be represented as a linear combination of the original features, non-linear methods allow for more flexible representations that can capture non-linear patterns and structures in the data**\n",
    "        - **Ex. t-distributed Stochastic Neighbor Embedding (t-SNE)**\n"
   ]
  },
  {
   "cell_type": "markdown",
   "metadata": {},
   "source": [
    "### **Principal Component Analysis (PCA)**\n",
    "- **It works by identifying the directions (principal components) in which the data varies the most and projecting the data onto a lower-dimensional subspace spanned by these components.**\n",
    "\n",
    "- **PCA gets some linearly uncorrelated and orthogonal components called principal components such that each component is a linear combination of some features of the original data where those uncorrelated components preserve as much as possible from the total variance of the data noting that variance means how much the data is spread around the mean.**"
   ]
  },
  {
   "cell_type": "markdown",
   "metadata": {},
   "source": [
    "##### **PCA Process**\n",
    "- **Centering the Data:**\n",
    "    - First, you calculate the mean value of X and Y for all the data points. \n",
    "    - Then, you subtract these mean values from each data point. This process centers the data around the origin (0,0) on the scatter plot."
   ]
  },
  {
   "cell_type": "markdown",
   "metadata": {},
   "source": [
    "\n",
    "- **Finding Directions of Maximum Variance:**\n",
    "    - Next, PCA looks for the directions in which the data varies the most. These are the principal components.\n",
    "    \n",
    "    - PCA calculates these principal components by analyzing how the data points are spread out in different directions."
   ]
  },
  {
   "cell_type": "code",
   "execution_count": 11,
   "metadata": {},
   "outputs": [
    {
     "data": {
      "image/png": "[encoded data removed]",
      "text/plain": [
       "<Figure size 800x600 with 1 Axes>"
      ]
     },
     "metadata": {},
     "output_type": "display_data"
    }
   ],
   "source": [
    "import numpy as np\n",
    "import matplotlib.pyplot as plt\n",
    "from mpl_toolkits.mplot3d import Axes3D\n",
    "\n",
    "# Generate some sample data\n",
    "np.random.seed(0)\n",
    "data = np.random.randn(100, 3)  # 100 data points with 3 features (x, y, z)\n",
    "\n",
    "# Center the data\n",
    "data_mean = np.mean(data, axis=0)\n",
    "centered_data = data - data_mean\n",
    "\n",
    "# Calculate the covariance matrix\n",
    "covariance_matrix = np.cov(centered_data.T)\n",
    "\n",
    "# Perform eigendecomposition to find principal components\n",
    "eigenvalues, eigenvectors = np.linalg.eig(covariance_matrix)\n",
    "\n",
    "# Sort eigenvectors by eigenvalues\n",
    "sorted_indices = np.argsort(eigenvalues)[::-1]\n",
    "sorted_eigenvectors = eigenvectors[:, sorted_indices]\n",
    "\n",
    "# Plot the original data\n",
    "fig = plt.figure(figsize=(8, 6))\n",
    "ax = fig.add_subplot(111, projection='3d')\n",
    "ax.scatter(data[:, 0], data[:, 1], data[:, 2], c='blue', label='Original Data')\n",
    "\n",
    "# Plot principal components as vectors\n",
    "for i in range(3):\n",
    "    ax.quiver(data_mean[0], data_mean[1], data_mean[2],  # start point of vector\n",
    "              sorted_eigenvectors[0, i], sorted_eigenvectors[1, i], sorted_eigenvectors[2, i],  # direction of vector\n",
    "              length=3*np.sqrt(eigenvalues[i]), color='red', label=f'Principal Component {i+1}')\n",
    "\n",
    "ax.set_xlabel('X')\n",
    "ax.set_ylabel('Y')\n",
    "ax.set_zlabel('Z')\n",
    "ax.set_title('Visualization of Principal Components')\n",
    "ax.legend()\n",
    "plt.show()"
   ]
  },
  {
   "cell_type": "markdown",
   "metadata": {},
   "source": [
    "- **Choosing Principal Components:**\n",
    "    - PCA ranks these principal components based on **how much variance** they capture. The first principal component captures the most variance in the data, the second captures the second most variance, and so on.\n",
    "\n",
    "    -  variance measures how much points differ from each other in terms of their features. Low variance means every point is similar, while high variance means there's a lot of diversity. PCA works better when there's high variance because it can find more meaningful patterns and directions in the data.\n",
    "\n",
    "    - You can choose to keep only a certain number of principal components, depending on how much of the variance you want to retain. For example, if you keep the first two principal components, you're effectively reducing the data from two dimensions (X and Y) to one dimension (the line defined by the first two principal components)."
   ]
  },
  {
   "cell_type": "markdown",
   "metadata": {},
   "source": [
    "- **Covariance:**\n",
    "    - Covariance measures the degree to which two sets of random variables change together.\n",
    "\n",
    "    - If the covariance between two variables is positive, it means that when one variable increases, the other tends to increase as well. Similarly, when one variable decreases, the other tends to decrease.\n",
    "\n",
    "    - If the covariance between two variables is negative, it means that when one variable increases, the other tends to decrease, and vice versa.\n",
    "\n",
    "    - If the covariance is close to zero, it indicates that there is little to no linear relationship between the variables.\n",
    "\n",
    "- **Direction of Correlation:**\n",
    "    - Covariance helps us understand the direction of correlation between two sets of variables.\n",
    "    \n",
    "    - Positive covariance suggests a positive correlation, meaning the variables tend to move in the same direction.\n",
    "\n",
    "    - Negative covariance suggests a negative correlation, meaning the variables tend to move in opposite directions.\n",
    "\n",
    "    - A covariance of zero suggests no linear relationship or correlation between the variables; they are uncorrelated."
   ]
  },
  {
   "cell_type": "markdown",
   "metadata": {},
   "source": [
    "- **Projecting Data onto Principal Components:**\n",
    "    - Finally, PCA projects the data onto the selected principal components. Each individual in features are transformed into new values based on the principal components.\n",
    "\n",
    "    - After this transformation, you end up with a new representation of the data in a lower-dimensional space that captures most of the important information."
   ]
  },
  {
   "cell_type": "code",
   "execution_count": 14,
   "metadata": {},
   "outputs": [
    {
     "data": {
      "image/png": "[encoded data removed]",
      "text/plain": [
       "<Figure size 1200x500 with 2 Axes>"
      ]
     },
     "metadata": {},
     "output_type": "display_data"
    }
   ],
   "source": [
    "import numpy as np\n",
    "import matplotlib.pyplot as plt\n",
    "from sklearn.decomposition import PCA\n",
    "\n",
    "# Generate sample data\n",
    "np.random.seed(0)\n",
    "# Original data: 100 points in 2D space\n",
    "data = np.random.randn(100, 2)  # 100 data points with 2 features (x, y)\n",
    "\n",
    "# Apply PCA\n",
    "pca = PCA(n_components=1)  # We'll reduce the dimensionality to 1 for visualization\n",
    "transformed_data = pca.fit_transform(data)\n",
    "\n",
    "# Plot original data\n",
    "plt.figure(figsize=(12, 5))\n",
    "\n",
    "plt.subplot(1, 2, 1)\n",
    "plt.scatter(data[:, 0], data[:, 1], c='blue', label='Original Data')\n",
    "plt.title('Original Data')\n",
    "plt.xlabel('X')\n",
    "plt.ylabel('Y')\n",
    "plt.grid(True)\n",
    "plt.legend()\n",
    "\n",
    "# Plot transformed data after PCA\n",
    "plt.subplot(1, 2, 2)\n",
    "plt.scatter(transformed_data, np.zeros_like(transformed_data), c='red', label='Transformed Data')\n",
    "plt.title('Transformed Data after PCA')\n",
    "plt.xlabel('Principal Component 1')\n",
    "plt.grid(True)\n",
    "plt.legend()\n",
    "\n",
    "plt.tight_layout()\n",
    "plt.show()\n"
   ]
  },
  {
   "cell_type": "code",
   "execution_count": 15,
   "metadata": {},
   "outputs": [
    {
     "data": {
      "image/png": "[encoded data removed]",
      "text/plain": [
       "<Figure size 1200x500 with 2 Axes>"
      ]
     },
     "metadata": {},
     "output_type": "display_data"
    }
   ],
   "source": [
    "import numpy as np\n",
    "import matplotlib.pyplot as plt\n",
    "from sklearn.decomposition import PCA\n",
    "\n",
    "# Generate sample data\n",
    "np.random.seed(0)\n",
    "# Original data: 100 points in 3D space\n",
    "data = np.random.randn(100, 3)  # 100 data points with 3 features (x, y, z)\n",
    "\n",
    "# Apply PCA to reduce dimensionality to 2\n",
    "pca = PCA(n_components=2)\n",
    "transformed_data = pca.fit_transform(data)\n",
    "\n",
    "# Plot original data\n",
    "fig = plt.figure(figsize=(12, 5))\n",
    "\n",
    "# Original 3D data\n",
    "ax1 = fig.add_subplot(121, projection='3d')\n",
    "ax1.scatter(data[:, 0], data[:, 1], data[:, 2], c='blue', label='Original Data')\n",
    "ax1.set_title('Original Data')\n",
    "ax1.set_xlabel('X')\n",
    "ax1.set_ylabel('Y')\n",
    "ax1.set_zlabel('Z')\n",
    "ax1.legend()\n",
    "\n",
    "# Transformed 2D data after PCA\n",
    "ax2 = fig.add_subplot(122)\n",
    "ax2.scatter(transformed_data[:, 0], transformed_data[:, 1], c='red', label='Transformed Data')\n",
    "ax2.set_title('Transformed Data after PCA')\n",
    "ax2.set_xlabel('Principal Component 1')\n",
    "ax2.set_ylabel('Principal Component 2')\n",
    "ax2.legend()\n",
    "\n",
    "plt.tight_layout()\n",
    "plt.show()\n"
   ]
  },
  {
   "cell_type": "code",
   "execution_count": 18,
   "metadata": {},
   "outputs": [
    {
     "data": {
      "application/vnd.plotly.v1+json": {
       "config": {
        "plotlyServerURL": "https://plot.ly"
       },
       "data": [
        {
         "marker": {
          "color": "blue",
          "opacity": 0.8,
          "size": 5
         },
         "mode": "markers",
         "name": "Original Data",
         "type": "scatter3d",
         "x": [
          1.764052345967664,
          2.240893199201458,
          0.9500884175255894,
          0.41059850193837233,
          0.7610377251469934,
          0.33367432737426683,
          0.31306770165090136,
          0.6536185954403606,
          2.2697546239876076,
          -0.1871838500258336,
          0.1549474256969163,
          -1.980796468223927,
          1.2302906807277207,
          -0.30230275057533557,
          -1.7062701906250126,
          -0.4380743016111864,
          -1.6138978475579515,
          0.386902497859262,
          -0.028182228338654868,
          0.3024718977397814,
          -0.672460447775951,
          -1.7262826023316769,
          -1.6301983469660446,
          0.05194539579613895,
          1.1394006845433007,
          -0.6848100909403132,
          -0.31155253212737266,
          0.9008264869541871,
          1.4882521937955997,
          -0.17992483581235091,
          -0.40317694697317963,
          0.9766390364837128,
          0.010500020720820478,
          0.40198936344470165,
          -1.2704849984857336,
          1.9436211856492926,
          1.9229420264803847,
          0.9060446582753853,
          -0.2680033709513804,
          -0.1550100930908342,
          0.37642553115562943,
          1.3263858966870303,
          -0.43515355172163744,
          0.40746183624111043,
          -0.6743326606573761,
          0.6764332949464997,
          0.3960067126616453,
          0.4393917012645369,
          2.383144774863942,
          1.117016288095853,
          -0.06824160532463124,
          -0.8264385386590144,
          1.126635922106507,
          -0.43782004474443403,
          0.9494208069257608,
          0.8443629764015471,
          1.1880297923523018,
          0.3187276529430212,
          -1.0342428417844647,
          -0.6895497777502005,
          -0.35399391125348395,
          -2.2234031522244266,
          -1.1043833394284506,
          1.5430145954067358,
          -0.0392828182274956,
          -0.1715463312222481,
          2.16323594928069,
          -0.2393791775759264,
          0.640131526097592,
          -0.7380309092056887,
          0.9101789080925919,
          -0.46641909673594306,
          -0.017020413861440594,
          -0.04225715166064269,
          -0.4635959746460942,
          0.06326199420033171,
          -0.5973160689653627,
          -0.49331988336219407,
          -1.1561824318219127,
          -2.0699850250135325,
          -0.637437025552229,
          -0.2977908794017283,
          1.15233156478312,
          -1.466424327802514,
          0.14195316332077967,
          0.6947491436560059,
          -1.582938397335082,
          -0.5068163542986875,
          -1.936279805846507,
          0.08842208704466141,
          0.3990463456401302,
          0.39009332268792646,
          0.49374177734918845,
          2.0644928613593194,
          -0.6920498477843912,
          0.6088438344754508,
          0.6898181645347884,
          -0.4810271184607877,
          -0.13594970067832082,
          0.5829536797532936
         ],
         "y": [
          0.4001572083672233,
          1.8675579901499675,
          -0.1513572082976979,
          0.144043571160878,
          0.12167501649282841,
          1.4940790731576061,
          -0.8540957393017248,
          0.8644361988595057,
          -1.4543656745987648,
          1.5327792143584575,
          0.37816251960217356,
          -0.3479121493261526,
          1.2023798487844113,
          -1.0485529650670926,
          1.9507753952317897,
          -1.2527953600499262,
          -0.2127402802139687,
          -0.510805137568873,
          0.42833187053041766,
          -0.6343220936809636,
          -0.3595531615405413,
          0.17742614225375283,
          0.4627822555257742,
          0.7290905621775369,
          -1.2348258203536526,
          -0.8707971491818818,
          0.05616534222974544,
          0.46566243973045984,
          1.8958891760305832,
          -1.0707526215105425,
          1.2224450703824274,
          0.3563663971744019,
          1.7858704939058352,
          1.8831506970562544,
          0.9693967081580112,
          -0.41361898075974735,
          1.4805147914344243,
          -0.8612256850547025,
          0.8024563957963952,
          0.6140793703460803,
          -1.0994007905841945,
          -0.6945678597313655,
          1.8492637284793418,
          -0.7699160744453164,
          0.03183055827435118,
          0.5765908166149409,
          -1.0930615087305058,
          0.16667349537252904,
          0.9444794869904138,
          -1.3159074105115212,
          1.7133427216493666,
          -0.0984525244254323,
          -1.0799315083634233,
          -0.4980324506923049,
          0.0875512413851909,
          -1.0002153473895647,
          0.3169426119248496,
          0.8568306119026912,
          0.681594518281627,
          -0.45553250351734315,
          -1.3749512934180188,
          0.6252314510271875,
          0.052165079260974405,
          -1.2928569097234486,
          -1.1680934977411974,
          0.7717905512136674,
          1.336527949436392,
          1.0996595958871132,
          -1.6169560443108344,
          0.27992459904323824,
          0.31721821519130206,
          -0.9444462559182504,
          0.3791517355550818,
          -0.955945000492777,
          0.4814814737734622,
          0.1565065379653756,
          -0.237921729736007,
          -0.5428614760167177,
          0.7811981017099934,
          0.42625873077810095,
          -0.39727181432879766,
          -0.3090129690471222,
          1.079618592036821,
          0.5210648764527586,
          -0.3193284171450952,
          -0.7255973784635843,
          0.6103793791072052,
          -0.5963140384505081,
          0.18877859679382855,
          -0.3108861716984717,
          -2.77259275642665,
          -0.65240858238702,
          -0.11610393903436653,
          -0.11054065723247261,
          1.5363770542457977,
          -1.0452533661469547,
          1.3018462295649984,
          2.303916697683942,
          1.1368913626026953,
          -0.3994490292628752
         ],
         "z": [
          0.9787379841057392,
          -0.977277879876411,
          -0.10321885179355784,
          1.454273506962975,
          0.44386323274542566,
          -0.20515826376580087,
          -2.5529898158340787,
          -0.7421650204064419,
          0.04575851730144607,
          1.469358769900285,
          -0.8877857476301128,
          0.15634896910398005,
          -0.3873268174079523,
          -1.4200179371789752,
          -0.5096521817516535,
          0.7774903558319101,
          -0.8954665611936756,
          -1.180632184122412,
          0.06651722238316789,
          -0.3627411659871381,
          -0.813146282044454,
          -0.4017809362082619,
          -0.9072983643832422,
          0.12898291075741067,
          0.402341641177549,
          -0.5788496647644155,
          -1.1651498407833565,
          -1.5362436862772237,
          1.1787795711596507,
          1.0544517269311366,
          0.2082749780768603,
          0.7065731681919482,
          0.12691209270361992,
          -1.3477590611424464,
          -1.17312340511416,
          -0.7474548114407578,
          1.8675589604265699,
          1.9100649530990337,
          0.947251967773748,
          0.9222066715665268,
          0.298238174206056,
          -0.14963454032767076,
          0.6722947570124355,
          0.5392491912918173,
          -0.635846078378881,
          -0.20829875557799488,
          -1.4912575927056055,
          0.6350314368921064,
          -0.9128222254441586,
          -0.461584604814709,
          -0.7447548220484399,
          -0.6634782863621074,
          -1.1474686524111024,
          1.9295320538169858,
          -1.225435518830168,
          -1.5447710967776116,
          0.920858823780819,
          -0.6510255933001469,
          -0.8034096641738411,
          0.01747915902505673,
          -0.6436184028328905,
          -1.6020576556067476,
          -0.7395629963913133,
          0.26705086934918293,
          0.5232766605317537,
          0.8235041539637314,
          -0.3691818379424436,
          0.6552637307225978,
          -0.024326124398935636,
          -0.09815038964295794,
          0.7863279621089762,
          -0.41004969320254847,
          2.259308950690852,
          -0.34598177569938643,
          -1.5407970144446248,
          0.23218103620027578,
          -1.4240609089825316,
          0.4160500462614255,
          1.4944845444913688,
          0.6769080350302455,
          -0.13288057758695562,
          -1.6760038063299767,
          -0.8133642592042029,
          -0.5757879698130661,
          0.6915387510701866,
          -1.3833639553950554,
          -1.188859257784029,
          -0.05256729626954629,
          0.5238910238342056,
          0.09740016626878341,
          1.9559123082506942,
          -0.3909533751876011,
          -2.0306844677814944,
          1.0201727117157997,
          0.28634368889227957,
          1.2111452896827009,
          -0.6280875596415789,
          -1.0600158227215473,
          0.0977249677148556,
          0.37005588784751875
         ]
        }
       ],
       "layout": {
        "scene": {
         "xaxis": {
          "title": {
           "text": "X"
          }
         },
         "yaxis": {
          "title": {
           "text": "Y"
          }
         },
         "zaxis": {
          "title": {
           "text": "Z"
          }
         }
        },
        "template": {
         "data": {
          "bar": [
           {
            "error_x": {
             "color": "#2a3f5f"
            },
            "error_y": {
             "color": "#2a3f5f"
            },
            "marker": {
             "line": {
              "color": "#E5ECF6",
              "width": 0.5
             },
             "pattern": {
              "fillmode": "overlay",
              "size": 10,
              "solidity": 0.2
             }
            },
            "type": "bar"
           }
          ],
          "barpolar": [
           {
            "marker": {
             "line": {
              "color": "#E5ECF6",
              "width": 0.5
             },
             "pattern": {
              "fillmode": "overlay",
              "size": 10,
              "solidity": 0.2
             }
            },
            "type": "barpolar"
           }
          ],
          "carpet": [
           {
            "aaxis": {
             "endlinecolor": "#2a3f5f",
             "gridcolor": "white",
             "linecolor": "white",
             "minorgridcolor": "white",
             "startlinecolor": "#2a3f5f"
            },
            "baxis": {
             "endlinecolor": "#2a3f5f",
             "gridcolor": "white",
             "linecolor": "white",
             "minorgridcolor": "white",
             "startlinecolor": "#2a3f5f"
            },
            "type": "carpet"
           }
          ],
          "choropleth": [
           {
            "colorbar": {
             "outlinewidth": 0,
             "ticks": ""
            },
            "type": "choropleth"
           }
          ],
          "contour": [
           {
            "colorbar": {
             "outlinewidth": 0,
             "ticks": ""
            },
            "colorscale": [
             [
              0,
              "#0d0887"
             ],
             [
              0.1111111111111111,
              "#46039f"
             ],
             [
              0.2222222222222222,
              "#7201a8"
             ],
             [
              0.3333333333333333,
              "#9c179e"
             ],
             [
              0.4444444444444444,
              "#bd3786"
             ],
             [
              0.5555555555555556,
              "#d8576b"
             ],
             [
              0.6666666666666666,
              "#ed7953"
             ],
             [
              0.7777777777777778,
              "#fb9f3a"
             ],
             [
              0.8888888888888888,
              "#fdca26"
             ],
             [
              1,
              "#f0f921"
             ]
            ],
            "type": "contour"
           }
          ],
          "contourcarpet": [
           {
            "colorbar": {
             "outlinewidth": 0,
             "ticks": ""
            },
            "type": "contourcarpet"
           }
          ],
          "heatmap": [
           {
            "colorbar": {
             "outlinewidth": 0,
             "ticks": ""
            },
            "colorscale": [
             [
              0,
              "#0d0887"
             ],
             [
              0.1111111111111111,
              "#46039f"
             ],
             [
              0.2222222222222222,
              "#7201a8"
             ],
             [
              0.3333333333333333,
              "#9c179e"
             ],
             [
              0.4444444444444444,
              "#bd3786"
             ],
             [
              0.5555555555555556,
              "#d8576b"
             ],
             [
              0.6666666666666666,
              "#ed7953"
             ],
             [
              0.7777777777777778,
              "#fb9f3a"
             ],
             [
              0.8888888888888888,
              "#fdca26"
             ],
             [
              1,
              "#f0f921"
             ]
            ],
            "type": "heatmap"
           }
          ],
          "heatmapgl": [
           {
            "colorbar": {
             "outlinewidth": 0,
             "ticks": ""
            },
            "colorscale": [
             [
              0,
              "#0d0887"
             ],
             [
              0.1111111111111111,
              "#46039f"
             ],
             [
              0.2222222222222222,
              "#7201a8"
             ],
             [
              0.3333333333333333,
              "#9c179e"
             ],
             [
              0.4444444444444444,
              "#bd3786"
             ],
             [
              0.5555555555555556,
              "#d8576b"
             ],
             [
              0.6666666666666666,
              "#ed7953"
             ],
             [
              0.7777777777777778,
              "#fb9f3a"
             ],
             [
              0.8888888888888888,
              "#fdca26"
             ],
             [
              1,
              "#f0f921"
             ]
            ],
            "type": "heatmapgl"
           }
          ],
          "histogram": [
           {
            "marker": {
             "pattern": {
              "fillmode": "overlay",
              "size": 10,
              "solidity": 0.2
             }
            },
            "type": "histogram"
           }
          ],
          "histogram2d": [
           {
            "colorbar": {
             "outlinewidth": 0,
             "ticks": ""
            },
            "colorscale": [
             [
              0,
              "#0d0887"
             ],
             [
              0.1111111111111111,
              "#46039f"
             ],
             [
              0.2222222222222222,
              "#7201a8"
             ],
             [
              0.3333333333333333,
              "#9c179e"
             ],
             [
              0.4444444444444444,
              "#bd3786"
             ],
             [
              0.5555555555555556,
              "#d8576b"
             ],
             [
              0.6666666666666666,
              "#ed7953"
             ],
             [
              0.7777777777777778,
              "#fb9f3a"
             ],
             [
              0.8888888888888888,
              "#fdca26"
             ],
             [
              1,
              "#f0f921"
             ]
            ],
            "type": "histogram2d"
           }
          ],
          "histogram2dcontour": [
           {
            "colorbar": {
             "outlinewidth": 0,
             "ticks": ""
            },
            "colorscale": [
             [
              0,
              "#0d0887"
             ],
             [
              0.1111111111111111,
              "#46039f"
             ],
             [
              0.2222222222222222,
              "#7201a8"
             ],
             [
              0.3333333333333333,
              "#9c179e"
             ],
             [
              0.4444444444444444,
              "#bd3786"
             ],
             [
              0.5555555555555556,
              "#d8576b"
             ],
             [
              0.6666666666666666,
              "#ed7953"
             ],
             [
              0.7777777777777778,
              "#fb9f3a"
             ],
             [
              0.8888888888888888,
              "#fdca26"
             ],
             [
              1,
              "#f0f921"
             ]
            ],
            "type": "histogram2dcontour"
           }
          ],
          "mesh3d": [
           {
            "colorbar": {
             "outlinewidth": 0,
             "ticks": ""
            },
            "type": "mesh3d"
           }
          ],
          "parcoords": [
           {
            "line": {
             "colorbar": {
              "outlinewidth": 0,
              "ticks": ""
             }
            },
            "type": "parcoords"
           }
          ],
          "pie": [
           {
            "automargin": true,
            "type": "pie"
           }
          ],
          "scatter": [
           {
            "fillpattern": {
             "fillmode": "overlay",
             "size": 10,
             "solidity": 0.2
            },
            "type": "scatter"
           }
          ],
          "scatter3d": [
           {
            "line": {
             "colorbar": {
              "outlinewidth": 0,
              "ticks": ""
             }
            },
            "marker": {
             "colorbar": {
              "outlinewidth": 0,
              "ticks": ""
             }
            },
            "type": "scatter3d"
           }
          ],
          "scattercarpet": [
           {
            "marker": {
             "colorbar": {
              "outlinewidth": 0,
              "ticks": ""
             }
            },
            "type": "scattercarpet"
           }
          ],
          "scattergeo": [
           {
            "marker": {
             "colorbar": {
              "outlinewidth": 0,
              "ticks": ""
             }
            },
            "type": "scattergeo"
           }
          ],
          "scattergl": [
           {
            "marker": {
             "colorbar": {
              "outlinewidth": 0,
              "ticks": ""
             }
            },
            "type": "scattergl"
           }
          ],
          "scattermapbox": [
           {
            "marker": {
             "colorbar": {
              "outlinewidth": 0,
              "ticks": ""
             }
            },
            "type": "scattermapbox"
           }
          ],
          "scatterpolar": [
           {
            "marker": {
             "colorbar": {
              "outlinewidth": 0,
              "ticks": ""
             }
            },
            "type": "scatterpolar"
           }
          ],
          "scatterpolargl": [
           {
            "marker": {
             "colorbar": {
              "outlinewidth": 0,
              "ticks": ""
             }
            },
            "type": "scatterpolargl"
           }
          ],
          "scatterternary": [
           {
            "marker": {
             "colorbar": {
              "outlinewidth": 0,
              "ticks": ""
             }
            },
            "type": "scatterternary"
           }
          ],
          "surface": [
           {
            "colorbar": {
             "outlinewidth": 0,
             "ticks": ""
            },
            "colorscale": [
             [
              0,
              "#0d0887"
             ],
             [
              0.1111111111111111,
              "#46039f"
             ],
             [
              0.2222222222222222,
              "#7201a8"
             ],
             [
              0.3333333333333333,
              "#9c179e"
             ],
             [
              0.4444444444444444,
              "#bd3786"
             ],
             [
              0.5555555555555556,
              "#d8576b"
             ],
             [
              0.6666666666666666,
              "#ed7953"
             ],
             [
              0.7777777777777778,
              "#fb9f3a"
             ],
             [
              0.8888888888888888,
              "#fdca26"
             ],
             [
              1,
              "#f0f921"
             ]
            ],
            "type": "surface"
           }
          ],
          "table": [
           {
            "cells": {
             "fill": {
              "color": "#EBF0F8"
             },
             "line": {
              "color": "white"
             }
            },
            "header": {
             "fill": {
              "color": "#C8D4E3"
             },
             "line": {
              "color": "white"
             }
            },
            "type": "table"
           }
          ]
         },
         "layout": {
          "annotationdefaults": {
           "arrowcolor": "#2a3f5f",
           "arrowhead": 0,
           "arrowwidth": 1
          },
          "autotypenumbers": "strict",
          "coloraxis": {
           "colorbar": {
            "outlinewidth": 0,
            "ticks": ""
           }
          },
          "colorscale": {
           "diverging": [
            [
             0,
             "#8e0152"
            ],
            [
             0.1,
             "#c51b7d"
            ],
            [
             0.2,
             "#de77ae"
            ],
            [
             0.3,
             "#f1b6da"
            ],
            [
             0.4,
             "#fde0ef"
            ],
            [
             0.5,
             "#f7f7f7"
            ],
            [
             0.6,
             "#e6f5d0"
            ],
            [
             0.7,
             "#b8e186"
            ],
            [
             0.8,
             "#7fbc41"
            ],
            [
             0.9,
             "#4d9221"
            ],
            [
             1,
             "#276419"
            ]
           ],
           "sequential": [
            [
             0,
             "#0d0887"
            ],
            [
             0.1111111111111111,
             "#46039f"
            ],
            [
             0.2222222222222222,
             "#7201a8"
            ],
            [
             0.3333333333333333,
             "#9c179e"
            ],
            [
             0.4444444444444444,
             "#bd3786"
            ],
            [
             0.5555555555555556,
             "#d8576b"
            ],
            [
             0.6666666666666666,
             "#ed7953"
            ],
            [
             0.7777777777777778,
             "#fb9f3a"
            ],
            [
             0.8888888888888888,
             "#fdca26"
            ],
            [
             1,
             "#f0f921"
            ]
           ],
           "sequentialminus": [
            [
             0,
             "#0d0887"
            ],
            [
             0.1111111111111111,
             "#46039f"
            ],
            [
             0.2222222222222222,
             "#7201a8"
            ],
            [
             0.3333333333333333,
             "#9c179e"
            ],
            [
             0.4444444444444444,
             "#bd3786"
            ],
            [
             0.5555555555555556,
             "#d8576b"
            ],
            [
             0.6666666666666666,
             "#ed7953"
            ],
            [
             0.7777777777777778,
             "#fb9f3a"
            ],
            [
             0.8888888888888888,
             "#fdca26"
            ],
            [
             1,
             "#f0f921"
            ]
           ]
          },
          "colorway": [
           "#636efa",
           "#EF553B",
           "#00cc96",
           "#ab63fa",
           "#FFA15A",
           "#19d3f3",
           "#FF6692",
           "#B6E880",
           "#FF97FF",
           "#FECB52"
          ],
          "font": {
           "color": "#2a3f5f"
          },
          "geo": {
           "bgcolor": "white",
           "lakecolor": "white",
           "landcolor": "#E5ECF6",
           "showlakes": true,
           "showland": true,
           "subunitcolor": "white"
          },
          "hoverlabel": {
           "align": "left"
          },
          "hovermode": "closest",
          "mapbox": {
           "style": "light"
          },
          "paper_bgcolor": "white",
          "plot_bgcolor": "#E5ECF6",
          "polar": {
           "angularaxis": {
            "gridcolor": "white",
            "linecolor": "white",
            "ticks": ""
           },
           "bgcolor": "#E5ECF6",
           "radialaxis": {
            "gridcolor": "white",
            "linecolor": "white",
            "ticks": ""
           }
          },
          "scene": {
           "xaxis": {
            "backgroundcolor": "#E5ECF6",
            "gridcolor": "white",
            "gridwidth": 2,
            "linecolor": "white",
            "showbackground": true,
            "ticks": "",
            "zerolinecolor": "white"
           },
           "yaxis": {
            "backgroundcolor": "#E5ECF6",
            "gridcolor": "white",
            "gridwidth": 2,
            "linecolor": "white",
            "showbackground": true,
            "ticks": "",
            "zerolinecolor": "white"
           },
           "zaxis": {
            "backgroundcolor": "#E5ECF6",
            "gridcolor": "white",
            "gridwidth": 2,
            "linecolor": "white",
            "showbackground": true,
            "ticks": "",
            "zerolinecolor": "white"
           }
          },
          "shapedefaults": {
           "line": {
            "color": "#2a3f5f"
           }
          },
          "ternary": {
           "aaxis": {
            "gridcolor": "white",
            "linecolor": "white",
            "ticks": ""
           },
           "baxis": {
            "gridcolor": "white",
            "linecolor": "white",
            "ticks": ""
           },
           "bgcolor": "#E5ECF6",
           "caxis": {
            "gridcolor": "white",
            "linecolor": "white",
            "ticks": ""
           }
          },
          "title": {
           "x": 0.05
          },
          "xaxis": {
           "automargin": true,
           "gridcolor": "white",
           "linecolor": "white",
           "ticks": "",
           "title": {
            "standoff": 15
           },
           "zerolinecolor": "white",
           "zerolinewidth": 2
          },
          "yaxis": {
           "automargin": true,
           "gridcolor": "white",
           "linecolor": "white",
           "ticks": "",
           "title": {
            "standoff": 15
           },
           "zerolinecolor": "white",
           "zerolinewidth": 2
          }
         }
        },
        "title": {
         "text": "Original Data"
        }
       }
      }
     },
     "metadata": {},
     "output_type": "display_data"
    },
    {
     "data": {
      "application/vnd.plotly.v1+json": {
       "config": {
        "plotlyServerURL": "https://plot.ly"
       },
       "data": [
        {
         "marker": {
          "color": "red",
          "opacity": 0.8,
          "size": 5
         },
         "mode": "markers",
         "name": "Transformed Data after PCA",
         "type": "scatter",
         "x": [
          -1.7451861177302876,
          -0.6455798444315605,
          -0.7814920983061997,
          -0.9900601905808308,
          -0.7926956810762409,
          0.36493498817268644,
          0.6416227058916705,
          0.13559086671420578,
          -2.384162694335136,
          -0.00925297200166873,
          0.4231861545240223,
          1.3551728369583567,
          -0.36915562829808246,
          0.516465557607483,
          2.303638052846122,
          -0.5047704663434269,
          1.6173823898971584,
          0.05116845158741673,
          0.12976848837455088,
          -0.31945018003574543,
          0.7741672222259318,
          1.613938334054304,
          1.8851243730199132,
          0.14690730203145252,
          -1.5742296080339906,
          0.48310753406281265,
          0.8089306311316775,
          0.17259441686512172,
          -1.0700097187763713,
          -0.7760339428665421,
          0.6531711418296876,
          -1.0038322690121664,
          0.5705709289508247,
          1.0020504904423204,
          1.9130200199869059,
          -1.360265835245533,
          -1.8996544118718452,
          -1.9738426625564116,
          0.036230039816149,
          -0.1111860519738113,
          -0.8668612936070704,
          -1.2591463712224544,
          0.6871949867163488,
          -0.8856813475448441,
          0.8349327350454113,
          -0.24478076748481267,
          -0.02178745280272681,
          -0.611694130407749,
          -1.1301303361045452,
          -1.171923978905892,
          1.0246164429183369,
          0.9212571070498556,
          -0.7635884257962903,
          -0.7792403097908553,
          -0.15459836517057168,
          -0.3188765671413047,
          -1.289465261840524,
          0.3557200094809824,
          1.4414634968481073,
          0.3539758337951316,
          0.06487104070710059,
          2.7505887430915217,
          1.2345952374158464,
          -1.8521030431009076,
          -0.6691325997838785,
          0.007476384240396478,
          -1.0712277979004594,
          0.26307909371508026,
          -1.1129534315884428,
          0.7192270694281662,
          -1.0036045392599098,
          0.2010978440885224,
          -0.9490204934005116,
          -0.17160030613176158,
          1.266998074273932,
          -0.12273309971712597,
          1.0522087851727164,
          -0.025641942567032814,
          0.4731025617804516,
          1.4619650619047904,
          0.40608475690608337,
          0.9083495372843673,
          -0.14800106181984685,
          1.6172060897811735,
          -0.5811752233099856,
          -0.17590796694138386,
          2.036968904577047,
          0.19016569315924264,
          1.341332961554548,
          -0.2504623784274912,
          -2.29693448708315,
          -0.38235369136073116,
          0.5193656279440952,
          -2.192589890723893,
          0.9614907164235452,
          -1.469826169557385,
          0.21333878833175365,
          1.7222652013727202,
          0.46187674836198295,
          -0.8076553563906456
         ],
         "y": [
          0.9808519527828988,
          1.428456517965253,
          -0.10710335243095884,
          0.8010385211289744,
          0.36055272398707194,
          1.2110793106869646,
          -1.9358320072874975,
          0.45184746610744325,
          -1.0124196926614772,
          1.9502255616409672,
          -0.10642594394445846,
          -0.5373337381816724,
          0.986426766731102,
          -1.6632924666572946,
          1.2089396977556186,
          -0.8466600488244688,
          -0.8564870994290132,
          -0.9920544999885653,
          0.3541342691174655,
          -0.7341777176559269,
          -0.8261958185058264,
          -0.3007499300542909,
          -0.2709872708300111,
          0.6573008294879334,
          -0.8007783743721082,
          -1.1685671982922805,
          -0.5770912882488219,
          -0.2326186388462864,
          2.3507272298343285,
          -0.5258761343052278,
          1.0683932077198293,
          0.7155072198261372,
          1.5787782140039253,
          1.0345173307498359,
          0.0975057312937706,
          -0.5065245368169113,
          2.359675099707403,
          0.1924816203373033,
          1.057874507447769,
          0.8954931410840842,
          -0.8281345414351514,
          -0.5569532420364808,
          1.8285644747918726,
          -0.4237301514782102,
          -0.40106771472948594,
          0.44828224408130013,
          -1.6453078981953944,
          0.4468041072235044,
          0.6661079399275027,
          -1.2732597482788286,
          1.1029802018538193,
          -0.5477739031375187,
          -1.381161512154795,
          0.3472804748147998,
          -0.4149782188040471,
          -1.5307455793796576,
          0.8069364597152356,
          0.4440810962145547,
          0.0457569034136808,
          -0.529599738593926,
          -1.5984485246784996,
          -0.5251512048253323,
          -0.4864191906593169,
          -0.8621483785175954,
          -0.8381863554791928,
          0.9863033092016378,
          1.2326903754520433,
          1.1878249772083709,
          -1.3973092840683992,
          0.0565060551016462,
          0.7093613803921615,
          -1.1272603209095136,
          1.3236427696289859,
          -1.0531948480262858,
          -0.3965111880992034,
          0.2036664327164384,
          -0.9914725222029632,
          -0.3971928950027619,
          1.177217798717831,
          0.3709087317337283,
          -0.5410827895287804,
          -1.1315069189077207,
          0.6721390011444236,
          -0.045850197867499345,
          0.007894821289728604,
          -1.234480856661202,
          -0.2651707754456121,
          -0.6619695716344293,
          0.10906898114876257,
          -0.2655844210108836,
          -1.5296835988162836,
          -0.7517848390221694,
          -1.0237995427217141,
          0.5902923902285947,
          1.342808666935757,
          -0.32966718297214104,
          0.8931286977193615,
          1.4229191159905616,
          0.9767093053034747,
          -0.1539202187317548
         ]
        }
       ],
       "layout": {
        "template": {
         "data": {
          "bar": [
           {
            "error_x": {
             "color": "#2a3f5f"
            },
            "error_y": {
             "color": "#2a3f5f"
            },
            "marker": {
             "line": {
              "color": "#E5ECF6",
              "width": 0.5
             },
             "pattern": {
              "fillmode": "overlay",
              "size": 10,
              "solidity": 0.2
             }
            },
            "type": "bar"
           }
          ],
          "barpolar": [
           {
            "marker": {
             "line": {
              "color": "#E5ECF6",
              "width": 0.5
             },
             "pattern": {
              "fillmode": "overlay",
              "size": 10,
              "solidity": 0.2
             }
            },
            "type": "barpolar"
           }
          ],
          "carpet": [
           {
            "aaxis": {
             "endlinecolor": "#2a3f5f",
             "gridcolor": "white",
             "linecolor": "white",
             "minorgridcolor": "white",
             "startlinecolor": "#2a3f5f"
            },
            "baxis": {
             "endlinecolor": "#2a3f5f",
             "gridcolor": "white",
             "linecolor": "white",
             "minorgridcolor": "white",
             "startlinecolor": "#2a3f5f"
            },
            "type": "carpet"
           }
          ],
          "choropleth": [
           {
            "colorbar": {
             "outlinewidth": 0,
             "ticks": ""
            },
            "type": "choropleth"
           }
          ],
          "contour": [
           {
            "colorbar": {
             "outlinewidth": 0,
             "ticks": ""
            },
            "colorscale": [
             [
              0,
              "#0d0887"
             ],
             [
              0.1111111111111111,
              "#46039f"
             ],
             [
              0.2222222222222222,
              "#7201a8"
             ],
             [
              0.3333333333333333,
              "#9c179e"
             ],
             [
              0.4444444444444444,
              "#bd3786"
             ],
             [
              0.5555555555555556,
              "#d8576b"
             ],
             [
              0.6666666666666666,
              "#ed7953"
             ],
             [
              0.7777777777777778,
              "#fb9f3a"
             ],
             [
              0.8888888888888888,
              "#fdca26"
             ],
             [
              1,
              "#f0f921"
             ]
            ],
            "type": "contour"
           }
          ],
          "contourcarpet": [
           {
            "colorbar": {
             "outlinewidth": 0,
             "ticks": ""
            },
            "type": "contourcarpet"
           }
          ],
          "heatmap": [
           {
            "colorbar": {
             "outlinewidth": 0,
             "ticks": ""
            },
            "colorscale": [
             [
              0,
              "#0d0887"
             ],
             [
              0.1111111111111111,
              "#46039f"
             ],
             [
              0.2222222222222222,
              "#7201a8"
             ],
             [
              0.3333333333333333,
              "#9c179e"
             ],
             [
              0.4444444444444444,
              "#bd3786"
             ],
             [
              0.5555555555555556,
              "#d8576b"
             ],
             [
              0.6666666666666666,
              "#ed7953"
             ],
             [
              0.7777777777777778,
              "#fb9f3a"
             ],
             [
              0.8888888888888888,
              "#fdca26"
             ],
             [
              1,
              "#f0f921"
             ]
            ],
            "type": "heatmap"
           }
          ],
          "heatmapgl": [
           {
            "colorbar": {
             "outlinewidth": 0,
             "ticks": ""
            },
            "colorscale": [
             [
              0,
              "#0d0887"
             ],
             [
              0.1111111111111111,
              "#46039f"
             ],
             [
              0.2222222222222222,
              "#7201a8"
             ],
             [
              0.3333333333333333,
              "#9c179e"
             ],
             [
              0.4444444444444444,
              "#bd3786"
             ],
             [
              0.5555555555555556,
              "#d8576b"
             ],
             [
              0.6666666666666666,
              "#ed7953"
             ],
             [
              0.7777777777777778,
              "#fb9f3a"
             ],
             [
              0.8888888888888888,
              "#fdca26"
             ],
             [
              1,
              "#f0f921"
             ]
            ],
            "type": "heatmapgl"
           }
          ],
          "histogram": [
           {
            "marker": {
             "pattern": {
              "fillmode": "overlay",
              "size": 10,
              "solidity": 0.2
             }
            },
            "type": "histogram"
           }
          ],
          "histogram2d": [
           {
            "colorbar": {
             "outlinewidth": 0,
             "ticks": ""
            },
            "colorscale": [
             [
              0,
              "#0d0887"
             ],
             [
              0.1111111111111111,
              "#46039f"
             ],
             [
              0.2222222222222222,
              "#7201a8"
             ],
             [
              0.3333333333333333,
              "#9c179e"
             ],
             [
              0.4444444444444444,
              "#bd3786"
             ],
             [
              0.5555555555555556,
              "#d8576b"
             ],
             [
              0.6666666666666666,
              "#ed7953"
             ],
             [
              0.7777777777777778,
              "#fb9f3a"
             ],
             [
              0.8888888888888888,
              "#fdca26"
             ],
             [
              1,
              "#f0f921"
             ]
            ],
            "type": "histogram2d"
           }
          ],
          "histogram2dcontour": [
           {
            "colorbar": {
             "outlinewidth": 0,
             "ticks": ""
            },
            "colorscale": [
             [
              0,
              "#0d0887"
             ],
             [
              0.1111111111111111,
              "#46039f"
             ],
             [
              0.2222222222222222,
              "#7201a8"
             ],
             [
              0.3333333333333333,
              "#9c179e"
             ],
             [
              0.4444444444444444,
              "#bd3786"
             ],
             [
              0.5555555555555556,
              "#d8576b"
             ],
             [
              0.6666666666666666,
              "#ed7953"
             ],
             [
              0.7777777777777778,
              "#fb9f3a"
             ],
             [
              0.8888888888888888,
              "#fdca26"
             ],
             [
              1,
              "#f0f921"
             ]
            ],
            "type": "histogram2dcontour"
           }
          ],
          "mesh3d": [
           {
            "colorbar": {
             "outlinewidth": 0,
             "ticks": ""
            },
            "type": "mesh3d"
           }
          ],
          "parcoords": [
           {
            "line": {
             "colorbar": {
              "outlinewidth": 0,
              "ticks": ""
             }
            },
            "type": "parcoords"
           }
          ],
          "pie": [
           {
            "automargin": true,
            "type": "pie"
           }
          ],
          "scatter": [
           {
            "fillpattern": {
             "fillmode": "overlay",
             "size": 10,
             "solidity": 0.2
            },
            "type": "scatter"
           }
          ],
          "scatter3d": [
           {
            "line": {
             "colorbar": {
              "outlinewidth": 0,
              "ticks": ""
             }
            },
            "marker": {
             "colorbar": {
              "outlinewidth": 0,
              "ticks": ""
             }
            },
            "type": "scatter3d"
           }
          ],
          "scattercarpet": [
           {
            "marker": {
             "colorbar": {
              "outlinewidth": 0,
              "ticks": ""
             }
            },
            "type": "scattercarpet"
           }
          ],
          "scattergeo": [
           {
            "marker": {
             "colorbar": {
              "outlinewidth": 0,
              "ticks": ""
             }
            },
            "type": "scattergeo"
           }
          ],
          "scattergl": [
           {
            "marker": {
             "colorbar": {
              "outlinewidth": 0,
              "ticks": ""
             }
            },
            "type": "scattergl"
           }
          ],
          "scattermapbox": [
           {
            "marker": {
             "colorbar": {
              "outlinewidth": 0,
              "ticks": ""
             }
            },
            "type": "scattermapbox"
           }
          ],
          "scatterpolar": [
           {
            "marker": {
             "colorbar": {
              "outlinewidth": 0,
              "ticks": ""
             }
            },
            "type": "scatterpolar"
           }
          ],
          "scatterpolargl": [
           {
            "marker": {
             "colorbar": {
              "outlinewidth": 0,
              "ticks": ""
             }
            },
            "type": "scatterpolargl"
           }
          ],
          "scatterternary": [
           {
            "marker": {
             "colorbar": {
              "outlinewidth": 0,
              "ticks": ""
             }
            },
            "type": "scatterternary"
           }
          ],
          "surface": [
           {
            "colorbar": {
             "outlinewidth": 0,
             "ticks": ""
            },
            "colorscale": [
             [
              0,
              "#0d0887"
             ],
             [
              0.1111111111111111,
              "#46039f"
             ],
             [
              0.2222222222222222,
              "#7201a8"
             ],
             [
              0.3333333333333333,
              "#9c179e"
             ],
             [
              0.4444444444444444,
              "#bd3786"
             ],
             [
              0.5555555555555556,
              "#d8576b"
             ],
             [
              0.6666666666666666,
              "#ed7953"
             ],
             [
              0.7777777777777778,
              "#fb9f3a"
             ],
             [
              0.8888888888888888,
              "#fdca26"
             ],
             [
              1,
              "#f0f921"
             ]
            ],
            "type": "surface"
           }
          ],
          "table": [
           {
            "cells": {
             "fill": {
              "color": "#EBF0F8"
             },
             "line": {
              "color": "white"
             }
            },
            "header": {
             "fill": {
              "color": "#C8D4E3"
             },
             "line": {
              "color": "white"
             }
            },
            "type": "table"
           }
          ]
         },
         "layout": {
          "annotationdefaults": {
           "arrowcolor": "#2a3f5f",
           "arrowhead": 0,
           "arrowwidth": 1
          },
          "autotypenumbers": "strict",
          "coloraxis": {
           "colorbar": {
            "outlinewidth": 0,
            "ticks": ""
           }
          },
          "colorscale": {
           "diverging": [
            [
             0,
             "#8e0152"
            ],
            [
             0.1,
             "#c51b7d"
            ],
            [
             0.2,
             "#de77ae"
            ],
            [
             0.3,
             "#f1b6da"
            ],
            [
             0.4,
             "#fde0ef"
            ],
            [
             0.5,
             "#f7f7f7"
            ],
            [
             0.6,
             "#e6f5d0"
            ],
            [
             0.7,
             "#b8e186"
            ],
            [
             0.8,
             "#7fbc41"
            ],
            [
             0.9,
             "#4d9221"
            ],
            [
             1,
             "#276419"
            ]
           ],
           "sequential": [
            [
             0,
             "#0d0887"
            ],
            [
             0.1111111111111111,
             "#46039f"
            ],
            [
             0.2222222222222222,
             "#7201a8"
            ],
            [
             0.3333333333333333,
             "#9c179e"
            ],
            [
             0.4444444444444444,
             "#bd3786"
            ],
            [
             0.5555555555555556,
             "#d8576b"
            ],
            [
             0.6666666666666666,
             "#ed7953"
            ],
            [
             0.7777777777777778,
             "#fb9f3a"
            ],
            [
             0.8888888888888888,
             "#fdca26"
            ],
            [
             1,
             "#f0f921"
            ]
           ],
           "sequentialminus": [
            [
             0,
             "#0d0887"
            ],
            [
             0.1111111111111111,
             "#46039f"
            ],
            [
             0.2222222222222222,
             "#7201a8"
            ],
            [
             0.3333333333333333,
             "#9c179e"
            ],
            [
             0.4444444444444444,
             "#bd3786"
            ],
            [
             0.5555555555555556,
             "#d8576b"
            ],
            [
             0.6666666666666666,
             "#ed7953"
            ],
            [
             0.7777777777777778,
             "#fb9f3a"
            ],
            [
             0.8888888888888888,
             "#fdca26"
            ],
            [
             1,
             "#f0f921"
            ]
           ]
          },
          "colorway": [
           "#636efa",
           "#EF553B",
           "#00cc96",
           "#ab63fa",
           "#FFA15A",
           "#19d3f3",
           "#FF6692",
           "#B6E880",
           "#FF97FF",
           "#FECB52"
          ],
          "font": {
           "color": "#2a3f5f"
          },
          "geo": {
           "bgcolor": "white",
           "lakecolor": "white",
           "landcolor": "#E5ECF6",
           "showlakes": true,
           "showland": true,
           "subunitcolor": "white"
          },
          "hoverlabel": {
           "align": "left"
          },
          "hovermode": "closest",
          "mapbox": {
           "style": "light"
          },
          "paper_bgcolor": "white",
          "plot_bgcolor": "#E5ECF6",
          "polar": {
           "angularaxis": {
            "gridcolor": "white",
            "linecolor": "white",
            "ticks": ""
           },
           "bgcolor": "#E5ECF6",
           "radialaxis": {
            "gridcolor": "white",
            "linecolor": "white",
            "ticks": ""
           }
          },
          "scene": {
           "xaxis": {
            "backgroundcolor": "#E5ECF6",
            "gridcolor": "white",
            "gridwidth": 2,
            "linecolor": "white",
            "showbackground": true,
            "ticks": "",
            "zerolinecolor": "white"
           },
           "yaxis": {
            "backgroundcolor": "#E5ECF6",
            "gridcolor": "white",
            "gridwidth": 2,
            "linecolor": "white",
            "showbackground": true,
            "ticks": "",
            "zerolinecolor": "white"
           },
           "zaxis": {
            "backgroundcolor": "#E5ECF6",
            "gridcolor": "white",
            "gridwidth": 2,
            "linecolor": "white",
            "showbackground": true,
            "ticks": "",
            "zerolinecolor": "white"
           }
          },
          "shapedefaults": {
           "line": {
            "color": "#2a3f5f"
           }
          },
          "ternary": {
           "aaxis": {
            "gridcolor": "white",
            "linecolor": "white",
            "ticks": ""
           },
           "baxis": {
            "gridcolor": "white",
            "linecolor": "white",
            "ticks": ""
           },
           "bgcolor": "#E5ECF6",
           "caxis": {
            "gridcolor": "white",
            "linecolor": "white",
            "ticks": ""
           }
          },
          "title": {
           "x": 0.05
          },
          "xaxis": {
           "automargin": true,
           "gridcolor": "white",
           "linecolor": "white",
           "ticks": "",
           "title": {
            "standoff": 15
           },
           "zerolinecolor": "white",
           "zerolinewidth": 2
          },
          "yaxis": {
           "automargin": true,
           "gridcolor": "white",
           "linecolor": "white",
           "ticks": "",
           "title": {
            "standoff": 15
           },
           "zerolinecolor": "white",
           "zerolinewidth": 2
          }
         }
        },
        "title": {
         "text": "Transformed Data after PCA"
        },
        "xaxis": {
         "title": {
          "text": "Principal Component 1"
         }
        },
        "yaxis": {
         "title": {
          "text": "Principal Component 2"
         }
        }
       }
      }
     },
     "metadata": {},
     "output_type": "display_data"
    }
   ],
   "source": [
    "import numpy as np\n",
    "import plotly.graph_objs as go\n",
    "from sklearn.decomposition import PCA\n",
    "\n",
    "# Generate sample data\n",
    "np.random.seed(0)\n",
    "# Original data: 100 points in 3D space\n",
    "data = np.random.randn(100, 3)  # 100 data points with 3 features (x, y, z)\n",
    "\n",
    "# Apply PCA to reduce dimensionality to 2\n",
    "pca = PCA(n_components=2)\n",
    "transformed_data = pca.fit_transform(data)\n",
    "\n",
    "# Plot original data\n",
    "original_trace = go.Scatter3d(\n",
    "    x=data[:, 0],\n",
    "    y=data[:, 1],\n",
    "    z=data[:, 2],\n",
    "    mode='markers',\n",
    "    marker=dict(\n",
    "        size=5,\n",
    "        color='blue',\n",
    "        opacity=0.8\n",
    "    ),\n",
    "    name='Original Data'\n",
    ")\n",
    "\n",
    "# Plot transformed data after PCA\n",
    "transformed_trace = go.Scatter(\n",
    "    x=transformed_data[:, 0],\n",
    "    y=transformed_data[:, 1],\n",
    "    mode='markers',\n",
    "    marker=dict(\n",
    "        size=5,\n",
    "        color='red',\n",
    "        opacity=0.8\n",
    "    ),\n",
    "    name='Transformed Data after PCA'\n",
    ")\n",
    "\n",
    "# Create original data figure\n",
    "fig1 = go.Figure(data=[original_trace])\n",
    "fig1.update_layout(title='Original Data',\n",
    "                   scene=dict(\n",
    "                       xaxis=dict(title='X'),\n",
    "                       yaxis=dict(title='Y'),\n",
    "                       zaxis=dict(title='Z')\n",
    "                   ))\n",
    "\n",
    "# Create transformed data figure\n",
    "fig2 = go.Figure(data=[transformed_trace])\n",
    "fig2.update_layout(title='Transformed Data after PCA',\n",
    "                   xaxis=dict(title='Principal Component 1'),\n",
    "                   yaxis=dict(title='Principal Component 2'))\n",
    "\n",
    "# Show figures\n",
    "fig1.show()\n",
    "fig2.show()\n"
   ]
  }
 ],
 "metadata": {
  "kernelspec": {
   "display_name": "Python 3",
   "language": "python",
   "name": "python3"
  },
  "language_info": {
   "codemirror_mode": {
    "name": "ipython",
    "version": 3
   },
   "file_extension": ".py",
   "mimetype": "text/x-python",
   "name": "python",
   "nbconvert_exporter": "python",
   "pygments_lexer": "ipython3",
   "version": "3.9.11"
  }
 },
 "nbformat": 4,
 "nbformat_minor": 2
}
